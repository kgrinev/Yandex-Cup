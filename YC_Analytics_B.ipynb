{
 "cells": [
  {
   "cell_type": "code",
   "execution_count": 1,
   "id": "50a76bc8",
   "metadata": {},
   "outputs": [],
   "source": [
    "import pandas as pd"
   ]
  },
  {
   "cell_type": "code",
   "execution_count": 2,
   "id": "a8a1be7b",
   "metadata": {},
   "outputs": [],
   "source": [
    "def pFound(query):\n",
    "    query = query.sort_values('rating', ascending=False)\n",
    "    pLook = 1\n",
    "    pFound = 0\n",
    "    for i in range(10):\n",
    "        pRel = query.rating[i]\n",
    "        pFound += pLook * pRel\n",
    "        pLook = pLook * (1 - pRel) * (1 - 0.15)\n",
    "    \n",
    "    return pFound "
   ]
  },
  {
   "cell_type": "code",
   "execution_count": 3,
   "id": "6a491eee",
   "metadata": {},
   "outputs": [],
   "source": [
    "query_data = pd.read_csv(\"open_task/qid_query.tsv\", sep='\\t', names=['id_query', 'text_query'])\n",
    "rating_data = pd.read_csv(\"open_task/qid_url_rating.tsv\", sep='\\t', names=['id_query', 'url', 'rating'])\n",
    "host_data = pd.read_csv(\"open_task/hostid_url.tsv\", sep='\\t', names=['id_host', 'url'])"
   ]
  },
  {
   "cell_type": "code",
   "execution_count": 5,
   "id": "cee381ad",
   "metadata": {},
   "outputs": [],
   "source": [
    "frames = [rating_data.set_index('url'), host_data.set_index('url')]\n",
    "df = pd.concat(frames, axis=1)\n",
    "df = df.sort_values(['id_host', 'rating'], ascending=False).drop_duplicates(subset='id_host')        "
   ]
  },
  {
   "cell_type": "code",
   "execution_count": 6,
   "id": "4d7e1099",
   "metadata": {},
   "outputs": [],
   "source": [
    "pF = {}\n",
    "for id in df.id_query.unique():\n",
    "    pF[id] = pFound(df[df.id_query==id])\n",
    "pF = pd.DataFrame.from_dict(pF, orient='index', columns=[ 'pFound'])"
   ]
  },
  {
   "cell_type": "code",
   "execution_count": 7,
   "id": "5ecaf8fc",
   "metadata": {},
   "outputs": [
    {
     "data": {
      "text/html": [
       "<div>\n",
       "<style scoped>\n",
       "    .dataframe tbody tr th:only-of-type {\n",
       "        vertical-align: middle;\n",
       "    }\n",
       "\n",
       "    .dataframe tbody tr th {\n",
       "        vertical-align: top;\n",
       "    }\n",
       "\n",
       "    .dataframe thead th {\n",
       "        text-align: right;\n",
       "    }\n",
       "</style>\n",
       "<table border=\"1\" class=\"dataframe\">\n",
       "  <thead>\n",
       "    <tr style=\"text-align: right;\">\n",
       "      <th></th>\n",
       "      <th>id_query</th>\n",
       "      <th>text_query</th>\n",
       "    </tr>\n",
       "  </thead>\n",
       "  <tbody>\n",
       "    <tr>\n",
       "      <th>14</th>\n",
       "      <td>692308</td>\n",
       "      <td>бесплатный просмотр камеди клаб</td>\n",
       "    </tr>\n",
       "  </tbody>\n",
       "</table>\n",
       "</div>"
      ],
      "text/plain": [
       "    id_query                       text_query\n",
       "14    692308  бесплатный просмотр камеди клаб"
      ]
     },
     "execution_count": 7,
     "metadata": {},
     "output_type": "execute_result"
    }
   ],
   "source": [
    "query_data[query_data.id_query == pF[pF.pFound == pF.pFound.max()].index[0]]"
   ]
  },
  {
   "cell_type": "code",
   "execution_count": null,
   "id": "a6c3417d",
   "metadata": {},
   "outputs": [],
   "source": []
  }
 ],
 "metadata": {
  "kernelspec": {
   "display_name": "Python 3 (ipykernel)",
   "language": "python",
   "name": "python3"
  },
  "language_info": {
   "codemirror_mode": {
    "name": "ipython",
    "version": 3
   },
   "file_extension": ".py",
   "mimetype": "text/x-python",
   "name": "python",
   "nbconvert_exporter": "python",
   "pygments_lexer": "ipython3",
   "version": "3.9.7"
  }
 },
 "nbformat": 4,
 "nbformat_minor": 5
}
